{
 "cells": [
  {
   "cell_type": "markdown",
   "metadata": {},
   "source": [
    "## Load Data"
   ]
  },
  {
   "cell_type": "code",
   "execution_count": 67,
   "metadata": {},
   "outputs": [],
   "source": [
    "import numpy as np\n",
    "import pandas as pd\n",
    "from sklearn import feature_extraction, linear_model, model_selection, preprocessing"
   ]
  },
  {
   "cell_type": "code",
   "execution_count": 68,
   "metadata": {},
   "outputs": [
    {
     "name": "stdout",
     "output_type": "stream",
     "text": [
      "                 id      target\n",
      "count   7613.000000  7613.00000\n",
      "mean    5441.934848     0.42966\n",
      "std     3137.116090     0.49506\n",
      "min        1.000000     0.00000\n",
      "25%     2734.000000     0.00000\n",
      "50%     5408.000000     0.00000\n",
      "75%     8146.000000     1.00000\n",
      "max    10873.000000     1.00000\n",
      "   id keyword location                                               text  \\\n",
      "0   1     NaN      NaN  Our Deeds are the Reason of this #earthquake M...   \n",
      "1   4     NaN      NaN             Forest fire near La Ronge Sask. Canada   \n",
      "2   5     NaN      NaN  All residents asked to 'shelter in place' are ...   \n",
      "3   6     NaN      NaN  13,000 people receive #wildfires evacuation or...   \n",
      "4   7     NaN      NaN  Just got sent this photo from Ruby #Alaska as ...   \n",
      "\n",
      "   target  \n",
      "0       1  \n",
      "1       1  \n",
      "2       1  \n",
      "3       1  \n",
      "4       1  \n",
      "                 id\n",
      "count   3263.000000\n",
      "mean    5427.152927\n",
      "std     3146.427221\n",
      "min        0.000000\n",
      "25%     2683.000000\n",
      "50%     5500.000000\n",
      "75%     8176.000000\n",
      "max    10875.000000\n",
      "   id keyword location                                               text\n",
      "0   0     NaN      NaN                 Just happened a terrible car crash\n",
      "1   2     NaN      NaN  Heard about #earthquake is different cities, s...\n",
      "2   3     NaN      NaN  there is a forest fire at spot pond, geese are...\n",
      "3   9     NaN      NaN           Apocalypse lighting. #Spokane #wildfires\n",
      "4  11     NaN      NaN      Typhoon Soudelor kills 28 in China and Taiwan\n"
     ]
    }
   ],
   "source": [
    "df_train = pd.read_csv('train.csv')\n",
    "df_test = pd.read_csv('test.csv')\n",
    "\n",
    "print(df_train.describe())\n",
    "print(df_train.head())\n",
    "\n",
    "print(df_test.describe())\n",
    "print(df_test.head())"
   ]
  },
  {
   "cell_type": "code",
   "execution_count": 69,
   "metadata": {},
   "outputs": [
    {
     "data": {
      "text/plain": [
       "\"What's up man?\""
      ]
     },
     "execution_count": 69,
     "metadata": {},
     "output_type": "execute_result"
    }
   ],
   "source": [
    "df_train[df_train['target'] == 0]['text'].values[0]"
   ]
  },
  {
   "cell_type": "code",
   "execution_count": 70,
   "metadata": {},
   "outputs": [
    {
     "data": {
      "text/plain": [
       "'Our Deeds are the Reason of this #earthquake May ALLAH Forgive us all'"
      ]
     },
     "execution_count": 70,
     "metadata": {},
     "output_type": "execute_result"
    }
   ],
   "source": [
    "df_train[df_train['target'] == 1]['text'].values[0]"
   ]
  },
  {
   "cell_type": "code",
   "execution_count": 71,
   "metadata": {},
   "outputs": [
    {
     "data": {
      "text/plain": [
       "'Our Deeds are the Reason of this #earthquake May ALLAH Forgive us all'"
      ]
     },
     "execution_count": 71,
     "metadata": {},
     "output_type": "execute_result"
    }
   ],
   "source": [
    "df_train['text'].values[0]"
   ]
  },
  {
   "cell_type": "markdown",
   "metadata": {},
   "source": [
    "## Create Features"
   ]
  },
  {
   "cell_type": "code",
   "execution_count": 72,
   "metadata": {},
   "outputs": [
    {
     "name": "stdout",
     "output_type": "stream",
     "text": [
      "(1, 54)\n",
      "[[0 0 0 1 1 1 0 0 0 0 0 0 1 1 0 0 0 0 1 0 0 0 0 0 0 1 0 0 0 1 0 0 0 0 1 0\n",
      "  0 0 0 1 0 0 0 0 0 0 0 0 0 1 1 0 1 0]]\n"
     ]
    }
   ],
   "source": [
    "# let's get counts for the first 5 tweets in the data\n",
    "count_vectorizer = feature_extraction.text.CountVectorizer()\n",
    "example_train_vectors = count_vectorizer.fit_transform(df_train[\"text\"][0:5])\n",
    "\n",
    "## we use .todense() here because these vectors are \"sparse\" (only non-zero elements are kept to save space)\n",
    "print(example_train_vectors[0].todense().shape)\n",
    "print(example_train_vectors[0].todense())"
   ]
  },
  {
   "cell_type": "code",
   "execution_count": 73,
   "metadata": {},
   "outputs": [
    {
     "name": "stdout",
     "output_type": "stream",
     "text": [
      "(1, 21637)\n",
      "(1, 21637)\n"
     ]
    }
   ],
   "source": [
    "# let's get counts for all tweets in the data\n",
    "count_vectorizer = feature_extraction.text.CountVectorizer()\n",
    "train_vectors = count_vectorizer.fit_transform(df_train['text'])\n",
    "test_vectors = count_vectorizer.transform(df_test['text'])\n",
    "\n",
    "print(train_vectors[0].todense().shape)\n",
    "print(test_vectors[0].todense().shape)"
   ]
  },
  {
   "cell_type": "markdown",
   "metadata": {},
   "source": [
    "## Train Models"
   ]
  },
  {
   "cell_type": "code",
   "execution_count": 74,
   "metadata": {},
   "outputs": [
    {
     "name": "stdout",
     "output_type": "stream",
     "text": [
      "2.4.3\n",
      "2.3.0\n"
     ]
    }
   ],
   "source": [
    "import keras\n",
    "import tensorflow\n",
    "print(keras.__version__)\n",
    "print(tensorflow.__version__)"
   ]
  },
  {
   "cell_type": "code",
   "execution_count": 75,
   "metadata": {},
   "outputs": [],
   "source": [
    "# Building our network\n",
    "from keras import models\n",
    "from keras import layers"
   ]
  },
  {
   "cell_type": "code",
   "execution_count": 76,
   "metadata": {},
   "outputs": [],
   "source": [
    "model = models.Sequential()\n",
    "model.add(layers.Dense(16, activation='relu', input_shape=(21637,)))\n",
    "model.add(layers.Dense(16, activation='relu'))\n",
    "model.add(layers.Dense(1, activation='sigmoid'))"
   ]
  },
  {
   "cell_type": "code",
   "execution_count": 77,
   "metadata": {},
   "outputs": [],
   "source": [
    "from keras import optimizers\n",
    "from keras import losses\n",
    "from keras import metrics\n",
    "\n",
    "model.compile(optimizer=optimizers.RMSprop(lr=0.001),\n",
    "              loss=losses.binary_crossentropy,\n",
    "              metrics=[metrics.binary_accuracy])"
   ]
  },
  {
   "cell_type": "code",
   "execution_count": 78,
   "metadata": {},
   "outputs": [],
   "source": [
    "# Validation data\n",
    "x_val = train_vectors[:2000].toarray()\n",
    "partial_x_train = train_vectors[2000:].toarray()\n",
    "\n",
    "y_val = df_train['target'][:2000].to_numpy()\n",
    "partial_y_train = df_train['target'][2000:].to_numpy()"
   ]
  },
  {
   "cell_type": "code",
   "execution_count": 79,
   "metadata": {},
   "outputs": [
    {
     "name": "stdout",
     "output_type": "stream",
     "text": [
      "<class 'scipy.sparse.csr.csr_matrix'>\n",
      "(2000, 21637)\n",
      "(2000,)\n",
      "(5613, 21637)\n",
      "(5613,)\n"
     ]
    }
   ],
   "source": [
    "print(type(train_vectors))\n",
    "print(x_val.shape)\n",
    "print(y_val.shape)\n",
    "print(partial_x_train.shape)\n",
    "print(partial_y_train.shape)"
   ]
  },
  {
   "cell_type": "code",
   "execution_count": 80,
   "metadata": {},
   "outputs": [
    {
     "name": "stdout",
     "output_type": "stream",
     "text": [
      "Epoch 1/20\n",
      "11/11 [==============================] - 1s 65ms/step - loss: 0.6608 - binary_accuracy: 0.7100 - val_loss: 0.6502 - val_binary_accuracy: 0.7195\n",
      "Epoch 2/20\n",
      "11/11 [==============================] - 0s 40ms/step - loss: 0.5696 - binary_accuracy: 0.8448 - val_loss: 0.6096 - val_binary_accuracy: 0.7310\n",
      "Epoch 3/20\n",
      "11/11 [==============================] - 0s 40ms/step - loss: 0.4841 - binary_accuracy: 0.8837 - val_loss: 0.5754 - val_binary_accuracy: 0.7445\n",
      "Epoch 4/20\n",
      "11/11 [==============================] - 0s 40ms/step - loss: 0.4118 - binary_accuracy: 0.8986 - val_loss: 0.5468 - val_binary_accuracy: 0.7600\n",
      "Epoch 5/20\n",
      "11/11 [==============================] - 0s 39ms/step - loss: 0.3503 - binary_accuracy: 0.9136 - val_loss: 0.5329 - val_binary_accuracy: 0.7560\n",
      "Epoch 6/20\n",
      "11/11 [==============================] - 0s 41ms/step - loss: 0.2989 - binary_accuracy: 0.9230 - val_loss: 0.5155 - val_binary_accuracy: 0.7585\n",
      "Epoch 7/20\n",
      "11/11 [==============================] - 0s 39ms/step - loss: 0.2556 - binary_accuracy: 0.9319 - val_loss: 0.5176 - val_binary_accuracy: 0.7560\n",
      "Epoch 8/20\n",
      "11/11 [==============================] - 0s 43ms/step - loss: 0.2179 - binary_accuracy: 0.9430 - val_loss: 0.5106 - val_binary_accuracy: 0.7560\n",
      "Epoch 9/20\n",
      "11/11 [==============================] - 0s 40ms/step - loss: 0.1860 - binary_accuracy: 0.9521 - val_loss: 0.5170 - val_binary_accuracy: 0.7490\n",
      "Epoch 10/20\n",
      "11/11 [==============================] - 0s 43ms/step - loss: 0.1587 - binary_accuracy: 0.9615 - val_loss: 0.5184 - val_binary_accuracy: 0.7530\n",
      "Epoch 11/20\n",
      "11/11 [==============================] - 0s 43ms/step - loss: 0.1358 - binary_accuracy: 0.9676 - val_loss: 0.5274 - val_binary_accuracy: 0.7465\n",
      "Epoch 12/20\n",
      "11/11 [==============================] - 0s 42ms/step - loss: 0.1158 - binary_accuracy: 0.9719 - val_loss: 0.5415 - val_binary_accuracy: 0.7455\n",
      "Epoch 13/20\n",
      "11/11 [==============================] - 0s 41ms/step - loss: 0.0995 - binary_accuracy: 0.9747 - val_loss: 0.5656 - val_binary_accuracy: 0.7335\n",
      "Epoch 14/20\n",
      "11/11 [==============================] - 0s 39ms/step - loss: 0.0856 - binary_accuracy: 0.9786 - val_loss: 0.5787 - val_binary_accuracy: 0.7365\n",
      "Epoch 15/20\n",
      "11/11 [==============================] - 0s 41ms/step - loss: 0.0736 - binary_accuracy: 0.9818 - val_loss: 0.5970 - val_binary_accuracy: 0.7400\n",
      "Epoch 16/20\n",
      "11/11 [==============================] - 0s 41ms/step - loss: 0.0639 - binary_accuracy: 0.9825 - val_loss: 0.6408 - val_binary_accuracy: 0.7245\n",
      "Epoch 17/20\n",
      "11/11 [==============================] - 0s 40ms/step - loss: 0.0555 - binary_accuracy: 0.9863 - val_loss: 0.6776 - val_binary_accuracy: 0.7200\n",
      "Epoch 18/20\n",
      "11/11 [==============================] - 0s 40ms/step - loss: 0.0482 - binary_accuracy: 0.9881 - val_loss: 0.7066 - val_binary_accuracy: 0.7155\n",
      "Epoch 19/20\n",
      "11/11 [==============================] - 0s 40ms/step - loss: 0.0420 - binary_accuracy: 0.9898 - val_loss: 0.7331 - val_binary_accuracy: 0.7195\n",
      "Epoch 20/20\n",
      "11/11 [==============================] - 0s 37ms/step - loss: 0.0375 - binary_accuracy: 0.9897 - val_loss: 0.7701 - val_binary_accuracy: 0.7130\n"
     ]
    }
   ],
   "source": [
    "history = model.fit(partial_x_train,\n",
    "                    partial_y_train,\n",
    "                    epochs=20,\n",
    "                    batch_size=512,\n",
    "                    validation_data=(x_val, y_val))"
   ]
  },
  {
   "cell_type": "code",
   "execution_count": 81,
   "metadata": {},
   "outputs": [
    {
     "data": {
      "text/plain": [
       "dict_keys(['loss', 'binary_accuracy', 'val_loss', 'val_binary_accuracy'])"
      ]
     },
     "execution_count": 81,
     "metadata": {},
     "output_type": "execute_result"
    }
   ],
   "source": [
    "history_dict = history.history\n",
    "history_dict.keys()"
   ]
  },
  {
   "cell_type": "code",
   "execution_count": 82,
   "metadata": {},
   "outputs": [
    {
     "data": {
      "image/png": "[encoded data removed]",
      "text/plain": [
       "<Figure size 432x288 with 1 Axes>"
      ]
     },
     "metadata": {
      "needs_background": "light"
     },
     "output_type": "display_data"
    }
   ],
   "source": [
    "# Loss Curve plot\n",
    "import matplotlib.pyplot as plt\n",
    "\n",
    "acc = history.history['binary_accuracy']\n",
    "val_acc = history.history['val_binary_accuracy']\n",
    "loss = history.history['loss']\n",
    "val_loss = history.history['val_loss']\n",
    "\n",
    "epochs = range(1, len(acc) + 1)\n",
    "\n",
    "# \"bo\" is for \"blue dot\"\n",
    "plt.plot(epochs, loss, 'bo', label='Training loss')\n",
    "# b is for \"solid blue line\"\n",
    "plt.plot(epochs, val_loss, 'b', label='Validation loss')\n",
    "plt.title('Training and validation loss')\n",
    "plt.xlabel('Epochs')\n",
    "plt.ylabel('Loss')\n",
    "plt.legend()\n",
    "\n",
    "plt.show()"
   ]
  },
  {
   "cell_type": "code",
   "execution_count": 83,
   "metadata": {},
   "outputs": [
    {
     "data": {
      "image/png": "[encoded data removed]",
      "text/plain": [
       "<Figure size 432x288 with 1 Axes>"
      ]
     },
     "metadata": {
      "needs_background": "light"
     },
     "output_type": "display_data"
    }
   ],
   "source": [
    "# Accuracy Curve plot\n",
    "plt.clf()   # clear figure\n",
    "acc_values = history_dict['binary_accuracy']\n",
    "val_acc_values = history_dict['val_binary_accuracy']\n",
    "\n",
    "plt.plot(epochs, acc, 'bo', label='Training acc')\n",
    "plt.plot(epochs, val_acc, 'b', label='Validation acc')\n",
    "plt.title('Training and validation accuracy')\n",
    "plt.xlabel('Epochs')\n",
    "plt.ylabel('Loss')\n",
    "plt.legend()\n",
    "\n",
    "plt.show()"
   ]
  },
  {
   "cell_type": "code",
   "execution_count": 86,
   "metadata": {},
   "outputs": [
    {
     "name": "stdout",
     "output_type": "stream",
     "text": [
      "Epoch 1/4\n",
      "11/11 [==============================] - 0s 31ms/step - loss: 0.6751 - accuracy: 0.7019\n",
      "Epoch 2/4\n",
      "11/11 [==============================] - 0s 31ms/step - loss: 0.6128 - accuracy: 0.8270\n",
      "Epoch 3/4\n",
      "11/11 [==============================] - 0s 30ms/step - loss: 0.5450 - accuracy: 0.8594\n",
      "Epoch 4/4\n",
      "11/11 [==============================] - 0s 26ms/step - loss: 0.4788 - accuracy: 0.8842\n",
      "63/63 [==============================] - 0s 2ms/step - loss: 0.5718 - accuracy: 0.7660\n"
     ]
    }
   ],
   "source": [
    "# Test data\n",
    "model = models.Sequential()\n",
    "model.add(layers.Dense(16, activation='relu', input_shape=(21637,)))\n",
    "model.add(layers.Dense(16, activation='relu'))\n",
    "model.add(layers.Dense(1, activation='sigmoid'))\n",
    "\n",
    "model.compile(optimizer='rmsprop',\n",
    "              loss='binary_crossentropy',\n",
    "              metrics=['accuracy'])\n",
    "\n",
    "model.fit(partial_x_train, partial_y_train, epochs=4, batch_size=512)\n",
    "results = model.evaluate(x_val, y_val)"
   ]
  },
  {
   "cell_type": "code",
   "execution_count": 87,
   "metadata": {},
   "outputs": [
    {
     "data": {
      "text/plain": [
       "[0.5718423128128052, 0.765999972820282]"
      ]
     },
     "execution_count": 87,
     "metadata": {},
     "output_type": "execute_result"
    }
   ],
   "source": [
    "results"
   ]
  },
  {
   "cell_type": "code",
   "execution_count": 88,
   "metadata": {},
   "outputs": [
    {
     "data": {
      "text/plain": [
       "array([[0.51922786],\n",
       "       [0.42774123],\n",
       "       [0.5629683 ],\n",
       "       ...,\n",
       "       [0.66385883],\n",
       "       [0.64598954],\n",
       "       [0.58131987]], dtype=float32)"
      ]
     },
     "execution_count": 88,
     "metadata": {},
     "output_type": "execute_result"
    }
   ],
   "source": [
    "# Test the model\n",
    "model.predict(x_test)"
   ]
  },
  {
   "cell_type": "code",
   "execution_count": 89,
   "metadata": {},
   "outputs": [],
   "source": [
    "sample_submission = pd.read_csv('sample_submission.csv')"
   ]
  },
  {
   "cell_type": "code",
   "execution_count": 108,
   "metadata": {},
   "outputs": [
    {
     "data": {
      "text/html": [
       "<div>\n",
       "<style scoped>\n",
       "    .dataframe tbody tr th:only-of-type {\n",
       "        vertical-align: middle;\n",
       "    }\n",
       "\n",
       "    .dataframe tbody tr th {\n",
       "        vertical-align: top;\n",
       "    }\n",
       "\n",
       "    .dataframe thead th {\n",
       "        text-align: right;\n",
       "    }\n",
       "</style>\n",
       "<table border=\"1\" class=\"dataframe\">\n",
       "  <thead>\n",
       "    <tr style=\"text-align: right;\">\n",
       "      <th></th>\n",
       "      <th>id</th>\n",
       "      <th>target</th>\n",
       "    </tr>\n",
       "  </thead>\n",
       "  <tbody>\n",
       "    <tr>\n",
       "      <th>0</th>\n",
       "      <td>0</td>\n",
       "      <td>1</td>\n",
       "    </tr>\n",
       "    <tr>\n",
       "      <th>1</th>\n",
       "      <td>2</td>\n",
       "      <td>0</td>\n",
       "    </tr>\n",
       "    <tr>\n",
       "      <th>2</th>\n",
       "      <td>3</td>\n",
       "      <td>1</td>\n",
       "    </tr>\n",
       "    <tr>\n",
       "      <th>3</th>\n",
       "      <td>9</td>\n",
       "      <td>0</td>\n",
       "    </tr>\n",
       "    <tr>\n",
       "      <th>4</th>\n",
       "      <td>11</td>\n",
       "      <td>1</td>\n",
       "    </tr>\n",
       "  </tbody>\n",
       "</table>\n",
       "</div>"
      ],
      "text/plain": [
       "   id  target\n",
       "0   0       1\n",
       "1   2       0\n",
       "2   3       1\n",
       "3   9       0\n",
       "4  11       1"
      ]
     },
     "execution_count": 108,
     "metadata": {},
     "output_type": "execute_result"
    }
   ],
   "source": [
    "sample_submission['target'] = np.round(model.predict(test_vectors))\n",
    "sample_submission['target'] = sample_submission['target'].astype('int')\n",
    "sample_submission.head()"
   ]
  },
  {
   "cell_type": "code",
   "execution_count": 109,
   "metadata": {},
   "outputs": [],
   "source": [
    "sample_submission.to_csv('submission.csv', index=False)"
   ]
  },
  {
   "cell_type": "code",
   "execution_count": null,
   "metadata": {},
   "outputs": [],
   "source": []
  }
 ],
 "metadata": {
  "kernelspec": {
   "display_name": "Python (deep37)",
   "language": "python",
   "name": "deep37"
  },
  "language_info": {
   "codemirror_mode": {
    "name": "ipython",
    "version": 3
   },
   "file_extension": ".py",
   "mimetype": "text/x-python",
   "name": "python",
   "nbconvert_exporter": "python",
   "pygments_lexer": "ipython3",
   "version": "3.7.9"
  }
 },
 "nbformat": 4,
 "nbformat_minor": 2
}
